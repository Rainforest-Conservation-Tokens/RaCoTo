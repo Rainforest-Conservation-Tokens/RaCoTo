{
 "cells": [
  {
   "cell_type": "code",
   "execution_count": null,
   "metadata": {},
   "outputs": [],
   "source": [
    "%load_ext autoreload\n",
    "%autoreload 2\n",
    "import requests\n",
    "import json\n",
    "import pandas as pd\n",
    "from globalFW_API_interface import getGFWConfig, createGeostoreIDfromGeometry, getDataSetUrl, getDataSetFields, queryDeforestationAlerts, queryCO2NetFlux, getArea\n",
    "from pathlib import Path\n",
    "import datetime\n",
    "import time"
   ]
  },
  {
   "cell_type": "code",
   "execution_count": null,
   "metadata": {},
   "outputs": [],
   "source": [
    "getGFWConfig()"
   ]
  },
  {
   "cell_type": "code",
   "execution_count": null,
   "metadata": {},
   "outputs": [],
   "source": [
    "gfwBaseURL = 'https://data-api.globalforestwatch.org/'\n",
    "headers = {'content-type': 'application/json'}\n"
   ]
  },
  {
   "cell_type": "code",
   "execution_count": null,
   "metadata": {},
   "outputs": [],
   "source": [
    "datasets = requests.get(url=f'{gfwBaseURL}datasets', headers=headers)\n"
   ]
  },
  {
   "attachments": {},
   "cell_type": "markdown",
   "metadata": {},
   "source": [
    "## draw patch on geojson.io, copy geometry part and add the \"type\" : \"string\", bit"
   ]
  },
  {
   "cell_type": "code",
   "execution_count": null,
   "metadata": {},
   "outputs": [],
   "source": [
    "geostoreGeometry = '{ \"geometry\": { \"type\": \"string\", \"coordinates\": [ [ [   -64.48111132990033,              -7.26380551976348             ],            [              -64.5836061807908,              -7.807104232575085             ],             [              -63.56702459848742,              -7.813321216519867            ],            [              -63.48335533245408,              -7.245130631814632            ],            [              -64.48111132990033,              -7.26380551976348            ]          ]        ],        \"type\": \"Polygon\"      }}'\n"
   ]
  },
  {
   "attachments": {},
   "cell_type": "markdown",
   "metadata": {},
   "source": [
    "## create a second geostore ID for seeing some deforestation alerts"
   ]
  },
  {
   "cell_type": "code",
   "execution_count": null,
   "metadata": {},
   "outputs": [],
   "source": [
    "createGeostoreIDfromGeometry()"
   ]
  },
  {
   "cell_type": "code",
   "execution_count": null,
   "metadata": {},
   "outputs": [],
   "source": [
    "getArea()"
   ]
  },
  {
   "attachments": {},
   "cell_type": "markdown",
   "metadata": {},
   "source": [
    "## helper function to create data set URLs"
   ]
  },
  {
   "cell_type": "code",
   "execution_count": null,
   "metadata": {},
   "outputs": [],
   "source": [
    "getDataSetUrl()"
   ]
  },
  {
   "cell_type": "code",
   "execution_count": null,
   "metadata": {},
   "outputs": [],
   "source": [
    "getDataSetUrl(datasetName=\"gfw_integrated_alerts\")"
   ]
  },
  {
   "attachments": {},
   "cell_type": "markdown",
   "metadata": {},
   "source": [
    "## helper function to get data set fields"
   ]
  },
  {
   "cell_type": "code",
   "execution_count": null,
   "metadata": {},
   "outputs": [],
   "source": [
    "getDataSetFields(datasetURL=getDataSetUrl())"
   ]
  },
  {
   "cell_type": "code",
   "execution_count": null,
   "metadata": {},
   "outputs": [],
   "source": [
    "getDataSetFields(datasetURL = getDataSetUrl(datasetName=\"gfw_integrated_alerts\"))"
   ]
  },
  {
   "attachments": {},
   "cell_type": "markdown",
   "metadata": {},
   "source": [
    "## deforestation area does not work yet..."
   ]
  },
  {
   "cell_type": "code",
   "execution_count": null,
   "metadata": {},
   "outputs": [],
   "source": [
    "applicationHeaders = {'content-type': 'application/json'}\n",
    "\n",
    "def queryDeforestationAlertsArea(\n",
    "        datasetURL: str = getDataSetUrl(datasetName=\"gfw_integrated_alerts\"), \n",
    "        geoJSON: str = \"86929d7e-512e-00fa-c4f1-f42776ec1c52\",\n",
    "        fromDate: str = \"2021-04-01\",\n",
    "        endDate: str = \"2023-04-30\",\n",
    "        field: str = 'umd_glad_sentinel2_alerts', #wur_radd_alerts\n",
    "    ):\n",
    "    config = getGFWConfig()\n",
    "    headers = {'Authorization' : config['gfwAuthHeader']}  | applicationHeaders  \n",
    "    data = {\n",
    "        \"sql\" : f\"SELECT '{field}_coverage__coverage' FROM results WHERE {field}__date >= '{fromDate}' AND {field}__date <='{endDate}'\",\n",
    "        \"geostore_id\" : geoJSON,   \n",
    "        \"geostore_origin\" : \"gfw\"\n",
    "    }\n",
    "    requestedData=requests.get(url=f'{datasetURL}/query/json', params= data, headers=headers)\n",
    "    return requestedData.json()"
   ]
  },
  {
   "cell_type": "code",
   "execution_count": null,
   "metadata": {},
   "outputs": [],
   "source": [
    "queryDeforestationAlertsArea()"
   ]
  },
  {
   "attachments": {},
   "cell_type": "markdown",
   "metadata": {},
   "source": [
    "### deforestation alerts are working nicely"
   ]
  },
  {
   "cell_type": "code",
   "execution_count": null,
   "metadata": {},
   "outputs": [],
   "source": [
    "queryDeforestationAlerts(datasetURL=getDataSetUrl(), geoJSON=\"f3ceac63-34cb-e9d6-e436-f0c42cafff10\", fromDate=\"2023-04-01\", confidence=\"high\")"
   ]
  },
  {
   "cell_type": "code",
   "execution_count": null,
   "metadata": {},
   "outputs": [],
   "source": [
    "queryDeforestationAlerts(datasetURL=getDataSetUrl(), geoJSON=\"f3ceac63-34cb-e9d6-e436-f0c42cafff10\", fromDate=\"2023-05-01\", endDate=\"2023-05-05\", confidence=\"high\")"
   ]
  },
  {
   "attachments": {},
   "cell_type": "markdown",
   "metadata": {},
   "source": [
    "## CO2 net flux query"
   ]
  },
  {
   "cell_type": "code",
   "execution_count": null,
   "metadata": {},
   "outputs": [],
   "source": [
    "queryCO2NetFlux()"
   ]
  },
  {
   "attachments": {},
   "cell_type": "markdown",
   "metadata": {},
   "source": [
    "## get complete list of data sets with some metadata"
   ]
  },
  {
   "cell_type": "code",
   "execution_count": null,
   "metadata": {},
   "outputs": [],
   "source": [
    "datasetList = []\n",
    "for dataset in datasetsJSON['data']:\n",
    "    thisDataSetDict = {}\n",
    "    thisDataSetDict[\"ID\"]=dataset['dataset']\n",
    "    thisDataSetDict[\"NAME\"] = dataset['metadata']['title']\n",
    "    thisDataSetDict[\"RESOLUTION\"] = dataset['metadata']['resolution']\n",
    "    thisDataSetDict[\"REF\"] = dataset['metadata'].get('learn_more',None)\n",
    "    thisDataSetDict[\"FUNCTION\"] = dataset['metadata'].get('function',None)\n",
    "    thisDataSetDict[\"UPDATE\"] = dataset['metadata'].get('update_frequency',None)\n",
    "    datasetList.append(thisDataSetDict)\n",
    "\n",
    "\n",
    "datsetDataFrame = pd.DataFrame(datasetList)   "
   ]
  },
  {
   "cell_type": "code",
   "execution_count": null,
   "metadata": {},
   "outputs": [],
   "source": [
    "datsetDataFrame[0:245]"
   ]
  },
  {
   "cell_type": "code",
   "execution_count": null,
   "metadata": {},
   "outputs": [],
   "source": [
    "datsetDataFrame.to_csv('gfw_datasets_overview.csv')"
   ]
  },
  {
   "cell_type": "code",
   "execution_count": null,
   "metadata": {},
   "outputs": [],
   "source": [
    "datsetDataFrame.to_excel('gfw_datasets_overview.xlsx')"
   ]
  },
  {
   "cell_type": "code",
   "execution_count": null,
   "metadata": {},
   "outputs": [],
   "source": [
    "datasetsJSON['data'][114]"
   ]
  },
  {
   "cell_type": "code",
   "execution_count": null,
   "metadata": {},
   "outputs": [],
   "source": [
    "datasetsJSON['data'][137]"
   ]
  },
  {
   "cell_type": "code",
   "execution_count": null,
   "metadata": {},
   "outputs": [],
   "source": [
    "datasetsJSON['data'][242]"
   ]
  },
  {
   "cell_type": "code",
   "execution_count": null,
   "metadata": {},
   "outputs": [],
   "source": [
    "datasetsJSON['data'][149]"
   ]
  },
  {
   "cell_type": "code",
   "execution_count": null,
   "metadata": {},
   "outputs": [],
   "source": [
    "datasetsJSON['data'][113]"
   ]
  },
  {
   "cell_type": "code",
   "execution_count": null,
   "metadata": {},
   "outputs": [],
   "source": []
  }
 ],
 "metadata": {
  "kernelspec": {
   "display_name": "venv",
   "language": "python",
   "name": "python3"
  },
  "language_info": {
   "codemirror_mode": {
    "name": "ipython",
    "version": 3
   },
   "file_extension": ".py",
   "mimetype": "text/x-python",
   "name": "python",
   "nbconvert_exporter": "python",
   "pygments_lexer": "ipython3",
   "version": "3.10.6"
  },
  "orig_nbformat": 4
 },
 "nbformat": 4,
 "nbformat_minor": 2
}
